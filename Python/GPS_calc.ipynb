{
 "cells": [
  {
   "cell_type": "code",
   "execution_count": 67,
   "metadata": {},
   "outputs": [
    {
     "name": "stdout",
     "output_type": "stream",
     "text": [
      "GPSLog\n",
      "[[ 49.4497014  11.8392176   0.       ]\n",
      " [ 49.4497325  11.8392308   0.       ]\n",
      " [ 49.4497412  11.8392351   0.       ]\n",
      " ...\n",
      " [ 49.4497262  11.8391375 457.6000061]\n",
      " [ 49.4497258  11.8391386 457.6000061]\n",
      " [ 49.4497249  11.8391435 457.6000061]]\n"
     ]
    }
   ],
   "source": [
    "import numpy as np\n",
    "import pylab as pl\n",
    "import scipy as sc\n",
    "from datetime import datetime\n",
    "%matplotlib notebook \n",
    "\n",
    "directory = './Measurements/'\n",
    "filenames = [\"GPSLog\"]\n",
    "mat = []\n",
    "l_date = []\n",
    "l_time = []\n",
    "for dataset in range(len(filenames)):\n",
    "    print(filenames[dataset])\n",
    "    gps_file = open(filenames[dataset], \"r\")\n",
    "    # mat = np.loadtxt(directory+filenames[dataset]) #change for loop\n",
    "    for line in gps_file:\n",
    "        date, time, long, lat, *alt = line.split()\n",
    "        l_date.append(date)\n",
    "        l_time.append(time)\n",
    "        mat.append([float(long),float(lat),float(alt[0] if (len(alt) > 0)else 0)])\n",
    "mat = np.array(mat)\n",
    "print(mat)"
   ]
  },
  {
   "cell_type": "code",
   "execution_count": 90,
   "metadata": {},
   "outputs": [
    {
     "name": "stdout",
     "output_type": "stream",
     "text": [
      "Frequency Mean Value:  2.318447912217643\n"
     ]
    }
   ],
   "source": [
    "timestamps = []\n",
    "l_frequency = []\n",
    "for k,dates in enumerate(l_date):\n",
    "    timestamps.append(datetime.strptime(l_date[k]+' '+l_time[k], '%d.%m.%y %H:%M:%S:%f'))\n",
    "    if len(timestamps) > 1:\n",
    "        delta = timestamps[k]-timestamps[k-1]\n",
    "        l_frequency.append(1/abs(float(delta.total_seconds())) if float(delta.total_seconds()) != 0 else 0)\n",
    "    if len(timestamps) == 2:\n",
    "        l_frequency.append(1/abs(float(delta.total_seconds())) if float(delta.total_seconds()) != 0 else 0)\n",
    "\n",
    "print('Frequency Mean Value: ',np.mean(l_frequency))"
   ]
  },
  {
   "cell_type": "code",
   "execution_count": null,
   "metadata": {},
   "outputs": [],
   "source": []
  }
 ],
 "metadata": {
  "kernelspec": {
   "display_name": "Python 3",
   "language": "python",
   "name": "python3"
  },
  "language_info": {
   "codemirror_mode": {
    "name": "ipython",
    "version": 3
   },
   "file_extension": ".py",
   "mimetype": "text/x-python",
   "name": "python",
   "nbconvert_exporter": "python",
   "pygments_lexer": "ipython3",
   "version": "3.7.6"
  }
 },
 "nbformat": 4,
 "nbformat_minor": 4
}
